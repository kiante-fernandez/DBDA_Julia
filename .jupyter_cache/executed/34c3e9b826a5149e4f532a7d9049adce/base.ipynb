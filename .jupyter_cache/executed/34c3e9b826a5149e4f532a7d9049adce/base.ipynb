{
 "cells": [
  {
   "cell_type": "code",
   "execution_count": 1,
   "id": "da9c47ca",
   "metadata": {},
   "outputs": [],
   "source": [
    "import IJulia\n",
    "\n",
    "# The julia kernel has built in support for Revise.jl, so this is the \n",
    "# recommended approach for long-running sessions:\n",
    "# https://github.com/JuliaLang/IJulia.jl/blob/9b10fa9b879574bbf720f5285029e07758e50a5e/src/kernel.jl#L46-L51\n",
    "\n",
    "# Users should enable revise within .julia/config/startup_ijulia.jl:\n",
    "# https://timholy.github.io/Revise.jl/stable/config/#Using-Revise-automatically-within-Jupyter/IJulia-1\n",
    "\n",
    "# clear console history\n",
    "IJulia.clear_history()\n",
    "\n",
    "fig_width = 7\n",
    "fig_height = 5\n",
    "fig_format = :retina\n",
    "fig_dpi = 96\n",
    "\n",
    "# no retina format type, use svg for high quality type/marks\n",
    "if fig_format == :retina\n",
    "  fig_format = :svg\n",
    "elseif fig_format == :pdf\n",
    "  fig_dpi = 96\n",
    "  # Enable PDF support for IJulia\n",
    "  IJulia.register_mime(MIME(\"application/pdf\"))\n",
    "end\n",
    "\n",
    "# convert inches to pixels\n",
    "fig_width = fig_width * fig_dpi\n",
    "fig_height = fig_height * fig_dpi\n",
    "\n",
    "# Intialize Plots w/ default fig width/height\n",
    "try\n",
    "  import Plots\n",
    "\n",
    "  # Plots.jl doesn't support PDF output for versions < 1.28.1\n",
    "  # so use png (if the DPI remains the default of 300 then set to 96)\n",
    "  if (Plots._current_plots_version < v\"1.28.1\") & (fig_format == :pdf)\n",
    "    Plots.gr(size=(fig_width, fig_height), fmt = :png, dpi = fig_dpi)\n",
    "  else\n",
    "    Plots.gr(size=(fig_width, fig_height), fmt = fig_format, dpi = fig_dpi)\n",
    "  end\n",
    "catch e\n",
    "  # @warn \"Plots init\" exception=(e, catch_backtrace())\n",
    "end\n",
    "\n",
    "# Initialize CairoMakie with default fig width/height\n",
    "try\n",
    "  import CairoMakie\n",
    "  \n",
    "  CairoMakie.activate!(type = string(fig_format))\n",
    "  CairoMakie.update_theme!(resolution=(fig_width, fig_height))\n",
    "catch e\n",
    "    # @warn \"CairoMakie init\" exception=(e, catch_backtrace())\n",
    "end\n",
    "  \n",
    "# Set run_path if specified\n",
    "try\n",
    "  run_path = raw\"\"\n",
    "  if !isempty(run_path)\n",
    "    cd(run_path)\n",
    "  end\n",
    "catch e\n",
    "  @warn \"Run path init:\" exception=(e, catch_backtrace())\n",
    "end\n",
    "\n",
    "\n",
    "# emulate old Pkg.installed beahvior, see\n",
    "# https://discourse.julialang.org/t/how-to-use-pkg-dependencies-instead-of-pkg-installed/36416/9\n",
    "import Pkg\n",
    "function isinstalled(pkg::String)\n",
    "  any(x -> x.name == pkg && x.is_direct_dep, values(Pkg.dependencies()))\n",
    "end\n",
    "\n",
    "# ojs_define\n",
    "if isinstalled(\"JSON\") && isinstalled(\"DataFrames\")\n",
    "  import JSON, DataFrames\n",
    "  global function ojs_define(; kwargs...)\n",
    "    convert(x) = x\n",
    "    convert(x::DataFrames.AbstractDataFrame) = Tables.rows(x)\n",
    "    content = Dict(\"contents\" => [Dict(\"name\" => k, \"value\" => convert(v)) for (k, v) in kwargs])\n",
    "    tag = \"<script type='ojs-define'>$(JSON.json(content))</script>\"\n",
    "    IJulia.display(MIME(\"text/html\"), tag)\n",
    "  end\n",
    "elseif isinstalled(\"JSON\")\n",
    "  import JSON\n",
    "  global function ojs_define(; kwargs...)\n",
    "    content = Dict(\"contents\" => [Dict(\"name\" => k, \"value\" => v) for (k, v) in kwargs])\n",
    "    tag = \"<script type='ojs-define'>$(JSON.json(content))</script>\"\n",
    "    IJulia.display(MIME(\"text/html\"), tag)\n",
    "  end\n",
    "else\n",
    "  global function ojs_define(; kwargs...)\n",
    "    @warn \"JSON package not available. Please install the JSON.jl package to use ojs_define.\"\n",
    "  end\n",
    "end\n",
    "\n",
    "\n",
    "# don't return kernel dependencies (b/c Revise should take care of dependencies)\n",
    "nothing\n"
   ]
  },
  {
   "cell_type": "code",
   "execution_count": 2,
   "id": "e65a37de",
   "metadata": {
    "output:false": null
   },
   "outputs": [
    {
     "name": "stderr",
     "output_type": "stream",
     "text": [
      "┌ Warning: use values(kwargs) and keys(kwargs) instead of kwargs.data and kwargs.itr\n",
      "│   caller = expand_grid(; iters::Base.Pairs{Symbol, AbstractVector, Tuple{Symbol, Symbol, Symbol}, NamedTuple{(:iteration, :Possibilities, :stage), Tuple{UnitRange{Int64}, Vector{String}, Vector{String}}}}) at In[2]:6\n",
      "└ @ Main ./In[2]:6\n"
     ]
    },
    {
     "data": {
      "text/plain": [
       "24-element Vector{Float64}:\n",
       " 0.25\n",
       " 0.25\n",
       " 0.25\n",
       " 0.25\n",
       " 0.0\n",
       " 0.3333333333333333\n",
       " 0.3333333333333333\n",
       " 0.3333333333333333\n",
       " 0.0\n",
       " 0.3333333333333333\n",
       " 0.3333333333333333\n",
       " 0.3333333333333333\n",
       " 0.0\n",
       " 0.5\n",
       " 0.0\n",
       " 0.5\n",
       " 0.0\n",
       " 0.5\n",
       " 0.0\n",
       " 0.5\n",
       " 0.0\n",
       " 0.0\n",
       " 0.0\n",
       " 1.0"
      ]
     },
     "execution_count": 2,
     "metadata": {},
     "output_type": "execute_result"
    }
   ],
   "source": [
    "#| warning: false\n",
    "\n",
    "using DataFrames\n",
    "\n",
    "function expand_grid(; iters...)\n",
    "    var_names = collect(keys(iters))\n",
    "    var_itr = [1:length(x) for x in iters.data]\n",
    "    var_ix = vcat([collect(x)' for x in Iterators.product(var_itr...)]...)\n",
    "    out = DataFrame()\n",
    "    for i = 1:length(var_names)\n",
    "        out[:,var_names[i]] = collect(iters[i])[var_ix[:,i]]\n",
    "    end\n",
    "    return out\n",
    "end\n",
    "\n",
    "d = expand_grid(iteration=1:3, Possibilities=[\"a\", \"b\",\"c\", \"d\"], stage = [\"a\", \"b\"])\n",
    "\n",
    "d2 =DataFrame(Credibility =[fill(.25,4); 0; fill(1/3,3); 0; fill(1/3,3);0;.5;0;0.5;0;.5;0;0.5;fill(0,3);1])\n",
    "\n",
    "sort!(d, [:iteration])\n",
    "d.Credibility = d2.Credibility"
   ]
  },
  {
   "cell_type": "code",
   "execution_count": 3,
   "id": "ea0fecd8",
   "metadata": {},
   "outputs": [
    {
     "data": {
      "text/html": [
       "<div class=\"data-frame\"><p>5 rows × 4 columns</p><table class=\"data-frame\"><thead><tr><th></th><th>iteration</th><th>Possibilities</th><th>stage</th><th>Credibility</th></tr><tr><th></th><th title=\"Int64\">Int64</th><th title=\"String\">String</th><th title=\"String\">String</th><th title=\"Float64\">Float64</th></tr></thead><tbody><tr><th>1</th><td>1</td><td>a</td><td>a</td><td>0.25</td></tr><tr><th>2</th><td>1</td><td>b</td><td>a</td><td>0.25</td></tr><tr><th>3</th><td>1</td><td>c</td><td>a</td><td>0.25</td></tr><tr><th>4</th><td>1</td><td>d</td><td>a</td><td>0.25</td></tr><tr><th>5</th><td>1</td><td>a</td><td>b</td><td>0.0</td></tr></tbody></table></div>"
      ],
      "text/latex": [
       "\\begin{tabular}{r|cccc}\n",
       "\t& iteration & Possibilities & stage & Credibility\\\\\n",
       "\t\\hline\n",
       "\t& Int64 & String & String & Float64\\\\\n",
       "\t\\hline\n",
       "\t1 & 1 & a & a & 0.25 \\\\\n",
       "\t2 & 1 & b & a & 0.25 \\\\\n",
       "\t3 & 1 & c & a & 0.25 \\\\\n",
       "\t4 & 1 & d & a & 0.25 \\\\\n",
       "\t5 & 1 & a & b & 0.0 \\\\\n",
       "\\end{tabular}\n"
      ],
      "text/plain": [
       "\u001b[1m5×4 DataFrame\u001b[0m\n",
       "\u001b[1m Row \u001b[0m│\u001b[1m iteration \u001b[0m\u001b[1m Possibilities \u001b[0m\u001b[1m stage  \u001b[0m\u001b[1m Credibility \u001b[0m\n",
       "\u001b[1m     \u001b[0m│\u001b[90m Int64     \u001b[0m\u001b[90m String        \u001b[0m\u001b[90m String \u001b[0m\u001b[90m Float64     \u001b[0m\n",
       "─────┼───────────────────────────────────────────────\n",
       "   1 │         1  a              a              0.25\n",
       "   2 │         1  b              a              0.25\n",
       "   3 │         1  c              a              0.25\n",
       "   4 │         1  d              a              0.25\n",
       "   5 │         1  a              b              0.0"
      ]
     },
     "execution_count": 3,
     "metadata": {},
     "output_type": "execute_result"
    }
   ],
   "source": [
    "first(d,5)"
   ]
  },
  {
   "cell_type": "code",
   "execution_count": 4,
   "id": "7a63c85f",
   "metadata": {},
   "outputs": [
    {
     "data": {
      "application/vnd.vegalite.v4+json": {
       "data": {
        "values": [
         {
          "Credibility": 0.25,
          "Possibilities": "a",
          "iteration": 1,
          "stage": "a"
         },
         {
          "Credibility": 0.25,
          "Possibilities": "b",
          "iteration": 1,
          "stage": "a"
         },
         {
          "Credibility": 0.25,
          "Possibilities": "c",
          "iteration": 1,
          "stage": "a"
         },
         {
          "Credibility": 0.25,
          "Possibilities": "d",
          "iteration": 1,
          "stage": "a"
         },
         {
          "Credibility": 0.0,
          "Possibilities": "a",
          "iteration": 1,
          "stage": "b"
         },
         {
          "Credibility": 0.3333333333333333,
          "Possibilities": "b",
          "iteration": 1,
          "stage": "b"
         },
         {
          "Credibility": 0.3333333333333333,
          "Possibilities": "c",
          "iteration": 1,
          "stage": "b"
         },
         {
          "Credibility": 0.3333333333333333,
          "Possibilities": "d",
          "iteration": 1,
          "stage": "b"
         },
         {
          "Credibility": 0.0,
          "Possibilities": "a",
          "iteration": 2,
          "stage": "a"
         },
         {
          "Credibility": 0.3333333333333333,
          "Possibilities": "b",
          "iteration": 2,
          "stage": "a"
         },
         {
          "Credibility": 0.3333333333333333,
          "Possibilities": "c",
          "iteration": 2,
          "stage": "a"
         },
         {
          "Credibility": 0.3333333333333333,
          "Possibilities": "d",
          "iteration": 2,
          "stage": "a"
         },
         {
          "Credibility": 0.0,
          "Possibilities": "a",
          "iteration": 2,
          "stage": "b"
         },
         {
          "Credibility": 0.5,
          "Possibilities": "b",
          "iteration": 2,
          "stage": "b"
         },
         {
          "Credibility": 0.0,
          "Possibilities": "c",
          "iteration": 2,
          "stage": "b"
         },
         {
          "Credibility": 0.5,
          "Possibilities": "d",
          "iteration": 2,
          "stage": "b"
         },
         {
          "Credibility": 0.0,
          "Possibilities": "a",
          "iteration": 3,
          "stage": "a"
         },
         {
          "Credibility": 0.5,
          "Possibilities": "b",
          "iteration": 3,
          "stage": "a"
         },
         {
          "Credibility": 0.0,
          "Possibilities": "c",
          "iteration": 3,
          "stage": "a"
         },
         {
          "Credibility": 0.5,
          "Possibilities": "d",
          "iteration": 3,
          "stage": "a"
         },
         {
          "Credibility": 0.0,
          "Possibilities": "a",
          "iteration": 3,
          "stage": "b"
         },
         {
          "Credibility": 0.0,
          "Possibilities": "b",
          "iteration": 3,
          "stage": "b"
         },
         {
          "Credibility": 0.0,
          "Possibilities": "c",
          "iteration": 3,
          "stage": "b"
         },
         {
          "Credibility": 1.0,
          "Possibilities": "d",
          "iteration": 3,
          "stage": "b"
         }
        ]
       },
       "encoding": {
        "color": {
         "axis": {
          "title": ""
         },
         "field": "Possibilities",
         "legend": "",
         "scale": {
          "range": [
           "#89b8f5"
          ]
         },
         "type": "nominal"
        },
        "column": {
         "axis": {
          "title": ""
         },
         "field": "iteration",
         "type": "ordinal"
        },
        "row": {
         "axis": {
          "title": ""
         },
         "field": "stage",
         "sort": "-stage",
         "type": "ordinal"
        },
        "x": {
         "field": "Possibilities",
         "title": "Possibilities",
         "type": "nominal"
        },
        "y": {
         "axis": {
          "grid": false,
          "title": "Credibility"
         },
         "field": "Credibility",
         "type": "quantitative"
        }
       },
       "height": 250,
       "mark": "bar"
      },
      "image/png": "[encoded data removed]",
      "image/svg+xml": [
       "<?xml version=\"1.0\" encoding=\"utf-8\"?>\n",
       "<!DOCTYPE svg PUBLIC \"-//W3C//DTD SVG 1.1//EN\" \"http://www.w3.org/Graphics/SVG/1.1/DTD/svg11.dtd\">\n",
       "<svg xmlns=\"http://www.w3.org/2000/svg\" xmlns:xlink=\"http://www.w3.org/1999/xlink\" version=\"1.1\" class=\"marks\" width=\"353\" height=\"582\" viewBox=\"0 0 353 582\"><rect width=\"353\" height=\"582\" fill=\"white\"/><g fill=\"none\" stroke-miterlimit=\"10\" transform=\"translate(63,26)\"><g class=\"mark-group role-frame root\" role=\"graphics-object\" aria-roledescription=\"group mark container\"><g transform=\"translate(0,0)\"><path class=\"background\" aria-hidden=\"true\" d=\"M0,0h0v0h0Z\"/><g><g class=\"mark-group role-row-header row_header\" role=\"graphics-object\" aria-roledescription=\"group mark container\"><g transform=\"translate(-1,0)\"><path class=\"background\" aria-hidden=\"true\" d=\"M0,0h0v250h0Z\"/><g><g class=\"mark-group role-axis\" role=\"graphics-symbol\" aria-roledescription=\"axis\" aria-label=\"Y-axis titled 'Credibility' for a linear scale with values from 0.0 to 1.0\"><g transform=\"translate(0.5,0.5)\"><path class=\"background\" aria-hidden=\"true\" d=\"M0,0h0v0h0Z\" pointer-events=\"none\"/><g><g class=\"mark-rule role-axis-tick\" pointer-events=\"none\"><line transform=\"translate(0,250)\" x2=\"-5\" y2=\"0\" stroke=\"#888\" stroke-width=\"1\" opacity=\"1\"/><line transform=\"translate(0,200)\" x2=\"-5\" y2=\"0\" stroke=\"#888\" stroke-width=\"1\" opacity=\"1\"/><line transform=\"translate(0,150)\" x2=\"-5\" y2=\"0\" stroke=\"#888\" stroke-width=\"1\" opacity=\"1\"/><line transform=\"translate(0,100)\" x2=\"-5\" y2=\"0\" stroke=\"#888\" stroke-width=\"1\" opacity=\"1\"/><line transform=\"translate(0,50)\" x2=\"-5\" y2=\"0\" stroke=\"#888\" stroke-width=\"1\" opacity=\"1\"/><line transform=\"translate(0,0)\" x2=\"-5\" y2=\"0\" stroke=\"#888\" stroke-width=\"1\" opacity=\"1\"/></g><g class=\"mark-text role-axis-label\" pointer-events=\"none\"><text text-anchor=\"end\" transform=\"translate(-7,253)\" font-family=\"sans-serif\" font-size=\"10px\" fill=\"#000\" opacity=\"1\">0.0</text><text text-anchor=\"end\" transform=\"translate(-7,203)\" font-family=\"sans-serif\" font-size=\"10px\" fill=\"#000\" opacity=\"1\">0.2</text><text text-anchor=\"end\" transform=\"translate(-7,153)\" font-family=\"sans-serif\" font-size=\"10px\" fill=\"#000\" opacity=\"1\">0.4</text><text text-anchor=\"end\" transform=\"translate(-7,103)\" font-family=\"sans-serif\" font-size=\"10px\" fill=\"#000\" opacity=\"1\">0.6</text><text text-anchor=\"end\" transform=\"translate(-7,52.999999999999986)\" font-family=\"sans-serif\" font-size=\"10px\" fill=\"#000\" opacity=\"1\">0.8</text><text text-anchor=\"end\" transform=\"translate(-7,3)\" font-family=\"sans-serif\" font-size=\"10px\" fill=\"#000\" opacity=\"1\">1.0</text></g><g class=\"mark-rule role-axis-domain\" pointer-events=\"none\"><line transform=\"translate(0,250)\" x2=\"0\" y2=\"-250\" stroke=\"#888\" stroke-width=\"1\" opacity=\"1\"/></g><g class=\"mark-text role-axis-title\" pointer-events=\"none\"><text text-anchor=\"middle\" transform=\"translate(-26,125) rotate(-90) translate(0,-2)\" font-family=\"sans-serif\" font-size=\"11px\" font-weight=\"bold\" fill=\"#000\" opacity=\"1\">Credibility</text></g></g><path class=\"foreground\" aria-hidden=\"true\" d=\"\" pointer-events=\"none\" display=\"none\"/></g></g><g class=\"mark-group role-title\"><g transform=\"translate(-57,125)\"><path class=\"background\" aria-hidden=\"true\" d=\"M0,0h0v0h0Z\" pointer-events=\"none\"/><g><g class=\"mark-text role-title-text\" role=\"graphics-symbol\" aria-roledescription=\"title\" aria-label=\"Title text 'a'\" pointer-events=\"none\"><text text-anchor=\"middle\" transform=\"translate(0,0) rotate(-90) translate(0,8)\" font-family=\"sans-serif\" font-size=\"10px\" fill=\"#000\" opacity=\"1\">a</text></g></g><path class=\"foreground\" aria-hidden=\"true\" d=\"\" pointer-events=\"none\" display=\"none\"/></g></g></g><path class=\"foreground\" aria-hidden=\"true\" d=\"\" display=\"none\"/></g><g transform=\"translate(-1,272)\"><path class=\"background\" aria-hidden=\"true\" d=\"M0,0h0v250h0Z\"/><g><g class=\"mark-group role-axis\" role=\"graphics-symbol\" aria-roledescription=\"axis\" aria-label=\"Y-axis titled 'Credibility' for a linear scale with values from 0.0 to 1.0\"><g transform=\"translate(0.5,0.5)\"><path class=\"background\" aria-hidden=\"true\" d=\"M0,0h0v0h0Z\" pointer-events=\"none\"/><g><g class=\"mark-rule role-axis-tick\" pointer-events=\"none\"><line transform=\"translate(0,250)\" x2=\"-5\" y2=\"0\" stroke=\"#888\" stroke-width=\"1\" opacity=\"1\"/><line transform=\"translate(0,200)\" x2=\"-5\" y2=\"0\" stroke=\"#888\" stroke-width=\"1\" opacity=\"1\"/><line transform=\"translate(0,150)\" x2=\"-5\" y2=\"0\" stroke=\"#888\" stroke-width=\"1\" opacity=\"1\"/><line transform=\"translate(0,100)\" x2=\"-5\" y2=\"0\" stroke=\"#888\" stroke-width=\"1\" opacity=\"1\"/><line transform=\"translate(0,50)\" x2=\"-5\" y2=\"0\" stroke=\"#888\" stroke-width=\"1\" opacity=\"1\"/><line transform=\"translate(0,0)\" x2=\"-5\" y2=\"0\" stroke=\"#888\" stroke-width=\"1\" opacity=\"1\"/></g><g class=\"mark-text role-axis-label\" pointer-events=\"none\"><text text-anchor=\"end\" transform=\"translate(-7,253)\" font-family=\"sans-serif\" font-size=\"10px\" fill=\"#000\" opacity=\"1\">0.0</text><text text-anchor=\"end\" transform=\"translate(-7,203)\" font-family=\"sans-serif\" font-size=\"10px\" fill=\"#000\" opacity=\"1\">0.2</text><text text-anchor=\"end\" transform=\"translate(-7,153)\" font-family=\"sans-serif\" font-size=\"10px\" fill=\"#000\" opacity=\"1\">0.4</text><text text-anchor=\"end\" transform=\"translate(-7,103)\" font-family=\"sans-serif\" font-size=\"10px\" fill=\"#000\" opacity=\"1\">0.6</text><text text-anchor=\"end\" transform=\"translate(-7,52.999999999999986)\" font-family=\"sans-serif\" font-size=\"10px\" fill=\"#000\" opacity=\"1\">0.8</text><text text-anchor=\"end\" transform=\"translate(-7,3)\" font-family=\"sans-serif\" font-size=\"10px\" fill=\"#000\" opacity=\"1\">1.0</text></g><g class=\"mark-rule role-axis-domain\" pointer-events=\"none\"><line transform=\"translate(0,250)\" x2=\"0\" y2=\"-250\" stroke=\"#888\" stroke-width=\"1\" opacity=\"1\"/></g><g class=\"mark-text role-axis-title\" pointer-events=\"none\"><text text-anchor=\"middle\" transform=\"translate(-26,125) rotate(-90) translate(0,-2)\" font-family=\"sans-serif\" font-size=\"11px\" font-weight=\"bold\" fill=\"#000\" opacity=\"1\">Credibility</text></g></g><path class=\"foreground\" aria-hidden=\"true\" d=\"\" pointer-events=\"none\" display=\"none\"/></g></g><g class=\"mark-group role-title\"><g transform=\"translate(-57,125)\"><path class=\"background\" aria-hidden=\"true\" d=\"M0,0h0v0h0Z\" pointer-events=\"none\"/><g><g class=\"mark-text role-title-text\" role=\"graphics-symbol\" aria-roledescription=\"title\" aria-label=\"Title text 'b'\" pointer-events=\"none\"><text text-anchor=\"middle\" transform=\"translate(0,0) rotate(-90) translate(0,8)\" font-family=\"sans-serif\" font-size=\"10px\" fill=\"#000\" opacity=\"1\">b</text></g></g><path class=\"foreground\" aria-hidden=\"true\" d=\"\" pointer-events=\"none\" display=\"none\"/></g></g></g><path class=\"foreground\" aria-hidden=\"true\" d=\"\" display=\"none\"/></g></g><g class=\"mark-group role-column-header column_header\" role=\"graphics-object\" aria-roledescription=\"group mark container\"><g transform=\"translate(0,-1)\"><path class=\"background\" aria-hidden=\"true\" d=\"M0,0h80v0h-80Z\"/><g><g class=\"mark-group role-title\"><g transform=\"translate(40,-20)\"><path class=\"background\" aria-hidden=\"true\" d=\"M0,0h0v0h0Z\" pointer-events=\"none\"/><g><g class=\"mark-text role-title-text\" role=\"graphics-symbol\" aria-roledescription=\"title\" aria-label=\"Title text '1'\" pointer-events=\"none\"><text text-anchor=\"middle\" transform=\"translate(0,8)\" font-family=\"sans-serif\" font-size=\"10px\" fill=\"#000\" opacity=\"1\">1</text></g></g><path class=\"foreground\" aria-hidden=\"true\" d=\"\" pointer-events=\"none\" display=\"none\"/></g></g></g><path class=\"foreground\" aria-hidden=\"true\" d=\"\" display=\"none\"/></g><g transform=\"translate(102,-1)\"><path class=\"background\" aria-hidden=\"true\" d=\"M0,0h80v0h-80Z\"/><g><g class=\"mark-group role-title\"><g transform=\"translate(40,-20)\"><path class=\"background\" aria-hidden=\"true\" d=\"M0,0h0v0h0Z\" pointer-events=\"none\"/><g><g class=\"mark-text role-title-text\" role=\"graphics-symbol\" aria-roledescription=\"title\" aria-label=\"Title text '2'\" pointer-events=\"none\"><text text-anchor=\"middle\" transform=\"translate(0,8)\" font-family=\"sans-serif\" font-size=\"10px\" fill=\"#000\" opacity=\"1\">2</text></g></g><path class=\"foreground\" aria-hidden=\"true\" d=\"\" pointer-events=\"none\" display=\"none\"/></g></g></g><path class=\"foreground\" aria-hidden=\"true\" d=\"\" display=\"none\"/></g><g transform=\"translate(204,-1)\"><path class=\"background\" aria-hidden=\"true\" d=\"M0,0h80v0h-80Z\"/><g><g class=\"mark-group role-title\"><g transform=\"translate(40,-20)\"><path class=\"background\" aria-hidden=\"true\" d=\"M0,0h0v0h0Z\" pointer-events=\"none\"/><g><g class=\"mark-text role-title-text\" role=\"graphics-symbol\" aria-roledescription=\"title\" aria-label=\"Title text '3'\" pointer-events=\"none\"><text text-anchor=\"middle\" transform=\"translate(0,8)\" font-family=\"sans-serif\" font-size=\"10px\" fill=\"#000\" opacity=\"1\">3</text></g></g><path class=\"foreground\" aria-hidden=\"true\" d=\"\" pointer-events=\"none\" display=\"none\"/></g></g></g><path class=\"foreground\" aria-hidden=\"true\" d=\"\" display=\"none\"/></g></g><g class=\"mark-group role-column-footer column_footer\" role=\"graphics-object\" aria-roledescription=\"group mark container\"><g transform=\"translate(0,523)\"><path class=\"background\" aria-hidden=\"true\" d=\"M0,0h80v0h-80Z\"/><g><g class=\"mark-group role-axis\" role=\"graphics-symbol\" aria-roledescription=\"axis\" aria-label=\"X-axis titled 'Possibilities' for a discrete scale with 4 values: a, b, c, d\"><g transform=\"translate(0.5,0.5)\"><path class=\"background\" aria-hidden=\"true\" d=\"M0,0h0v0h0Z\" pointer-events=\"none\"/><g><g class=\"mark-rule role-axis-tick\" pointer-events=\"none\"><line transform=\"translate(10,0)\" x2=\"0\" y2=\"5\" stroke=\"#888\" stroke-width=\"1\" opacity=\"1\"/><line transform=\"translate(30,0)\" x2=\"0\" y2=\"5\" stroke=\"#888\" stroke-width=\"1\" opacity=\"1\"/><line transform=\"translate(50,0)\" x2=\"0\" y2=\"5\" stroke=\"#888\" stroke-width=\"1\" opacity=\"1\"/><line transform=\"translate(70,0)\" x2=\"0\" y2=\"5\" stroke=\"#888\" stroke-width=\"1\" opacity=\"1\"/></g><g class=\"mark-text role-axis-label\" pointer-events=\"none\"><text text-anchor=\"end\" transform=\"translate(9.5,7) rotate(270) translate(0,3)\" font-family=\"sans-serif\" font-size=\"10px\" fill=\"#000\" opacity=\"1\">a</text><text text-anchor=\"end\" transform=\"translate(29.5,7) rotate(270) translate(0,3)\" font-family=\"sans-serif\" font-size=\"10px\" fill=\"#000\" opacity=\"1\">b</text><text text-anchor=\"end\" transform=\"translate(49.5,7) rotate(270) translate(0,3)\" font-family=\"sans-serif\" font-size=\"10px\" fill=\"#000\" opacity=\"1\">c</text><text text-anchor=\"end\" transform=\"translate(69.5,7) rotate(270) translate(0,3)\" font-family=\"sans-serif\" font-size=\"10px\" fill=\"#000\" opacity=\"1\">d</text></g><g class=\"mark-rule role-axis-domain\" pointer-events=\"none\"><line transform=\"translate(0,0)\" x2=\"80\" y2=\"0\" stroke=\"#888\" stroke-width=\"1\" opacity=\"1\"/></g><g class=\"mark-text role-axis-title\" pointer-events=\"none\"><text text-anchor=\"middle\" transform=\"translate(40,26)\" font-family=\"sans-serif\" font-size=\"11px\" font-weight=\"bold\" fill=\"#000\" opacity=\"1\">Possibilities</text></g></g><path class=\"foreground\" aria-hidden=\"true\" d=\"\" pointer-events=\"none\" display=\"none\"/></g></g></g><path class=\"foreground\" aria-hidden=\"true\" d=\"\" display=\"none\"/></g><g transform=\"translate(102,523)\"><path class=\"background\" aria-hidden=\"true\" d=\"M0,0h80v0h-80Z\"/><g><g class=\"mark-group role-axis\" role=\"graphics-symbol\" aria-roledescription=\"axis\" aria-label=\"X-axis titled 'Possibilities' for a discrete scale with 4 values: a, b, c, d\"><g transform=\"translate(0.5,0.5)\"><path class=\"background\" aria-hidden=\"true\" d=\"M0,0h0v0h0Z\" pointer-events=\"none\"/><g><g class=\"mark-rule role-axis-tick\" pointer-events=\"none\"><line transform=\"translate(10,0)\" x2=\"0\" y2=\"5\" stroke=\"#888\" stroke-width=\"1\" opacity=\"1\"/><line transform=\"translate(30,0)\" x2=\"0\" y2=\"5\" stroke=\"#888\" stroke-width=\"1\" opacity=\"1\"/><line transform=\"translate(50,0)\" x2=\"0\" y2=\"5\" stroke=\"#888\" stroke-width=\"1\" opacity=\"1\"/><line transform=\"translate(70,0)\" x2=\"0\" y2=\"5\" stroke=\"#888\" stroke-width=\"1\" opacity=\"1\"/></g><g class=\"mark-text role-axis-label\" pointer-events=\"none\"><text text-anchor=\"end\" transform=\"translate(9.5,7) rotate(270) translate(0,3)\" font-family=\"sans-serif\" font-size=\"10px\" fill=\"#000\" opacity=\"1\">a</text><text text-anchor=\"end\" transform=\"translate(29.5,7) rotate(270) translate(0,3)\" font-family=\"sans-serif\" font-size=\"10px\" fill=\"#000\" opacity=\"1\">b</text><text text-anchor=\"end\" transform=\"translate(49.5,7) rotate(270) translate(0,3)\" font-family=\"sans-serif\" font-size=\"10px\" fill=\"#000\" opacity=\"1\">c</text><text text-anchor=\"end\" transform=\"translate(69.5,7) rotate(270) translate(0,3)\" font-family=\"sans-serif\" font-size=\"10px\" fill=\"#000\" opacity=\"1\">d</text></g><g class=\"mark-rule role-axis-domain\" pointer-events=\"none\"><line transform=\"translate(0,0)\" x2=\"80\" y2=\"0\" stroke=\"#888\" stroke-width=\"1\" opacity=\"1\"/></g><g class=\"mark-text role-axis-title\" pointer-events=\"none\"><text text-anchor=\"middle\" transform=\"translate(40,26)\" font-family=\"sans-serif\" font-size=\"11px\" font-weight=\"bold\" fill=\"#000\" opacity=\"1\">Possibilities</text></g></g><path class=\"foreground\" aria-hidden=\"true\" d=\"\" pointer-events=\"none\" display=\"none\"/></g></g></g><path class=\"foreground\" aria-hidden=\"true\" d=\"\" display=\"none\"/></g><g transform=\"translate(204,523)\"><path class=\"background\" aria-hidden=\"true\" d=\"M0,0h80v0h-80Z\"/><g><g class=\"mark-group role-axis\" role=\"graphics-symbol\" aria-roledescription=\"axis\" aria-label=\"X-axis titled 'Possibilities' for a discrete scale with 4 values: a, b, c, d\"><g transform=\"translate(0.5,0.5)\"><path class=\"background\" aria-hidden=\"true\" d=\"M0,0h0v0h0Z\" pointer-events=\"none\"/><g><g class=\"mark-rule role-axis-tick\" pointer-events=\"none\"><line transform=\"translate(10,0)\" x2=\"0\" y2=\"5\" stroke=\"#888\" stroke-width=\"1\" opacity=\"1\"/><line transform=\"translate(30,0)\" x2=\"0\" y2=\"5\" stroke=\"#888\" stroke-width=\"1\" opacity=\"1\"/><line transform=\"translate(50,0)\" x2=\"0\" y2=\"5\" stroke=\"#888\" stroke-width=\"1\" opacity=\"1\"/><line transform=\"translate(70,0)\" x2=\"0\" y2=\"5\" stroke=\"#888\" stroke-width=\"1\" opacity=\"1\"/></g><g class=\"mark-text role-axis-label\" pointer-events=\"none\"><text text-anchor=\"end\" transform=\"translate(9.5,7) rotate(270) translate(0,3)\" font-family=\"sans-serif\" font-size=\"10px\" fill=\"#000\" opacity=\"1\">a</text><text text-anchor=\"end\" transform=\"translate(29.5,7) rotate(270) translate(0,3)\" font-family=\"sans-serif\" font-size=\"10px\" fill=\"#000\" opacity=\"1\">b</text><text text-anchor=\"end\" transform=\"translate(49.5,7) rotate(270) translate(0,3)\" font-family=\"sans-serif\" font-size=\"10px\" fill=\"#000\" opacity=\"1\">c</text><text text-anchor=\"end\" transform=\"translate(69.5,7) rotate(270) translate(0,3)\" font-family=\"sans-serif\" font-size=\"10px\" fill=\"#000\" opacity=\"1\">d</text></g><g class=\"mark-rule role-axis-domain\" pointer-events=\"none\"><line transform=\"translate(0,0)\" x2=\"80\" y2=\"0\" stroke=\"#888\" stroke-width=\"1\" opacity=\"1\"/></g><g class=\"mark-text role-axis-title\" pointer-events=\"none\"><text text-anchor=\"middle\" transform=\"translate(40,26)\" font-family=\"sans-serif\" font-size=\"11px\" font-weight=\"bold\" fill=\"#000\" opacity=\"1\">Possibilities</text></g></g><path class=\"foreground\" aria-hidden=\"true\" d=\"\" pointer-events=\"none\" display=\"none\"/></g></g></g><path class=\"foreground\" aria-hidden=\"true\" d=\"\" display=\"none\"/></g></g><g class=\"mark-group role-scope cell\" role=\"graphics-object\" aria-roledescription=\"group mark container\"><g transform=\"translate(0,0)\"><path class=\"background\" aria-hidden=\"true\" d=\"M0.5,0.5h80v250h-80Z\" stroke=\"#ddd\"/><g><g class=\"mark-rect role-mark child_marks\" role=\"graphics-object\" aria-roledescription=\"rect mark container\"><path aria-label=\"Possibilities: a; Credibility: 0.25\" role=\"graphics-symbol\" aria-roledescription=\"bar\" d=\"M1,187.5h18v62.5h-18Z\" fill=\"#89b8f5\"/><path aria-label=\"Possibilities: b; Credibility: 0.25\" role=\"graphics-symbol\" aria-roledescription=\"bar\" d=\"M21,187.5h18v62.5h-18Z\" fill=\"#89b8f5\"/><path aria-label=\"Possibilities: c; Credibility: 0.25\" role=\"graphics-symbol\" aria-roledescription=\"bar\" d=\"M41,187.5h18v62.5h-18Z\" fill=\"#89b8f5\"/><path aria-label=\"Possibilities: d; Credibility: 0.25\" role=\"graphics-symbol\" aria-roledescription=\"bar\" d=\"M61,187.5h18v62.5h-18Z\" fill=\"#89b8f5\"/></g></g><path class=\"foreground\" aria-hidden=\"true\" d=\"\" display=\"none\"/></g><g transform=\"translate(102,0)\"><path class=\"background\" aria-hidden=\"true\" d=\"M0.5,0.5h80v250h-80Z\" stroke=\"#ddd\"/><g><g class=\"mark-rect role-mark child_marks\" role=\"graphics-object\" aria-roledescription=\"rect mark container\"><path aria-label=\"Possibilities: a; Credibility: 0\" role=\"graphics-symbol\" aria-roledescription=\"bar\" d=\"M1,250h18v0h-18Z\" fill=\"#89b8f5\"/><path aria-label=\"Possibilities: b; Credibility: 0.333333333333\" role=\"graphics-symbol\" aria-roledescription=\"bar\" d=\"M21,166.66666666666669h18v83.33333333333331h-18Z\" fill=\"#89b8f5\"/><path aria-label=\"Possibilities: c; Credibility: 0.333333333333\" role=\"graphics-symbol\" aria-roledescription=\"bar\" d=\"M41,166.66666666666669h18v83.33333333333331h-18Z\" fill=\"#89b8f5\"/><path aria-label=\"Possibilities: d; Credibility: 0.333333333333\" role=\"graphics-symbol\" aria-roledescription=\"bar\" d=\"M61,166.66666666666669h18v83.33333333333331h-18Z\" fill=\"#89b8f5\"/></g></g><path class=\"foreground\" aria-hidden=\"true\" d=\"\" display=\"none\"/></g><g transform=\"translate(204,0)\"><path class=\"background\" aria-hidden=\"true\" d=\"M0.5,0.5h80v250h-80Z\" stroke=\"#ddd\"/><g><g class=\"mark-rect role-mark child_marks\" role=\"graphics-object\" aria-roledescription=\"rect mark container\"><path aria-label=\"Possibilities: a; Credibility: 0\" role=\"graphics-symbol\" aria-roledescription=\"bar\" d=\"M1,250h18v0h-18Z\" fill=\"#89b8f5\"/><path aria-label=\"Possibilities: b; Credibility: 0.5\" role=\"graphics-symbol\" aria-roledescription=\"bar\" d=\"M21,125h18v125h-18Z\" fill=\"#89b8f5\"/><path aria-label=\"Possibilities: c; Credibility: 0\" role=\"graphics-symbol\" aria-roledescription=\"bar\" d=\"M41,250h18v0h-18Z\" fill=\"#89b8f5\"/><path aria-label=\"Possibilities: d; Credibility: 0.5\" role=\"graphics-symbol\" aria-roledescription=\"bar\" d=\"M61,125h18v125h-18Z\" fill=\"#89b8f5\"/></g></g><path class=\"foreground\" aria-hidden=\"true\" d=\"\" display=\"none\"/></g><g transform=\"translate(0,272)\"><path class=\"background\" aria-hidden=\"true\" d=\"M0.5,0.5h80v250h-80Z\" stroke=\"#ddd\"/><g><g class=\"mark-rect role-mark child_marks\" role=\"graphics-object\" aria-roledescription=\"rect mark container\"><path aria-label=\"Possibilities: a; Credibility: 0\" role=\"graphics-symbol\" aria-roledescription=\"bar\" d=\"M1,250h18v0h-18Z\" fill=\"#89b8f5\"/><path aria-label=\"Possibilities: b; Credibility: 0.333333333333\" role=\"graphics-symbol\" aria-roledescription=\"bar\" d=\"M21,166.66666666666669h18v83.33333333333331h-18Z\" fill=\"#89b8f5\"/><path aria-label=\"Possibilities: c; Credibility: 0.333333333333\" role=\"graphics-symbol\" aria-roledescription=\"bar\" d=\"M41,166.66666666666669h18v83.33333333333331h-18Z\" fill=\"#89b8f5\"/><path aria-label=\"Possibilities: d; Credibility: 0.333333333333\" role=\"graphics-symbol\" aria-roledescription=\"bar\" d=\"M61,166.66666666666669h18v83.33333333333331h-18Z\" fill=\"#89b8f5\"/></g></g><path class=\"foreground\" aria-hidden=\"true\" d=\"\" display=\"none\"/></g><g transform=\"translate(102,272)\"><path class=\"background\" aria-hidden=\"true\" d=\"M0.5,0.5h80v250h-80Z\" stroke=\"#ddd\"/><g><g class=\"mark-rect role-mark child_marks\" role=\"graphics-object\" aria-roledescription=\"rect mark container\"><path aria-label=\"Possibilities: a; Credibility: 0\" role=\"graphics-symbol\" aria-roledescription=\"bar\" d=\"M1,250h18v0h-18Z\" fill=\"#89b8f5\"/><path aria-label=\"Possibilities: b; Credibility: 0.5\" role=\"graphics-symbol\" aria-roledescription=\"bar\" d=\"M21,125h18v125h-18Z\" fill=\"#89b8f5\"/><path aria-label=\"Possibilities: c; Credibility: 0\" role=\"graphics-symbol\" aria-roledescription=\"bar\" d=\"M41,250h18v0h-18Z\" fill=\"#89b8f5\"/><path aria-label=\"Possibilities: d; Credibility: 0.5\" role=\"graphics-symbol\" aria-roledescription=\"bar\" d=\"M61,125h18v125h-18Z\" fill=\"#89b8f5\"/></g></g><path class=\"foreground\" aria-hidden=\"true\" d=\"\" display=\"none\"/></g><g transform=\"translate(204,272)\"><path class=\"background\" aria-hidden=\"true\" d=\"M0.5,0.5h80v250h-80Z\" stroke=\"#ddd\"/><g><g class=\"mark-rect role-mark child_marks\" role=\"graphics-object\" aria-roledescription=\"rect mark container\"><path aria-label=\"Possibilities: a; Credibility: 0\" role=\"graphics-symbol\" aria-roledescription=\"bar\" d=\"M1,250h18v0h-18Z\" fill=\"#89b8f5\"/><path aria-label=\"Possibilities: b; Credibility: 0\" role=\"graphics-symbol\" aria-roledescription=\"bar\" d=\"M21,250h18v0h-18Z\" fill=\"#89b8f5\"/><path aria-label=\"Possibilities: c; Credibility: 0\" role=\"graphics-symbol\" aria-roledescription=\"bar\" d=\"M41,250h18v0h-18Z\" fill=\"#89b8f5\"/><path aria-label=\"Possibilities: d; Credibility: 1\" role=\"graphics-symbol\" aria-roledescription=\"bar\" d=\"M61,0h18v250h-18Z\" fill=\"#89b8f5\"/></g></g><path class=\"foreground\" aria-hidden=\"true\" d=\"\" display=\"none\"/></g></g></g><path class=\"foreground\" aria-hidden=\"true\" d=\"\" display=\"none\"/></g></g></g></svg>\n"
      ],
      "text/plain": [
       "@vlplot(\n",
       "    height=250,\n",
       "    mark=\"bar\",\n",
       "    encoding={\n",
       "        color={\n",
       "            scale={\n",
       "                range=[\n",
       "                    \"#89b8f5\"\n",
       "                ]\n",
       "            },\n",
       "            axis={\n",
       "                title=\"\"\n",
       "            },\n",
       "            legend=\"\",\n",
       "            field=\"Possibilities\",\n",
       "            type=\"nominal\"\n",
       "        },\n",
       "        column={\n",
       "            axis={\n",
       "                title=\"\"\n",
       "            },\n",
       "            field=\"iteration\",\n",
       "            type=\"ordinal\"\n",
       "        },\n",
       "        row={\n",
       "            sort=\"-stage\",\n",
       "            axis={\n",
       "                title=\"\"\n",
       "            },\n",
       "            field=\"stage\",\n",
       "            type=\"ordinal\"\n",
       "        },\n",
       "        x={\n",
       "            title=\"Possibilities\",\n",
       "            field=\"Possibilities\",\n",
       "            type=\"nominal\"\n",
       "        },\n",
       "        y={\n",
       "            axis={\n",
       "                title=\"Credibility\",\n",
       "                grid=false\n",
       "            },\n",
       "            field=\"Credibility\"\n",
       "        }\n",
       "    },\n",
       "    data={\n",
       "        values=...\n",
       "    }\n",
       ")"
      ]
     },
     "execution_count": 4,
     "metadata": {},
     "output_type": "execute_result"
    }
   ],
   "source": [
    "#| warning: false\n",
    "\n",
    "using Plots\n",
    "using VegaLite\n",
    "\n",
    "#bar(d.Possibilities, d.Credibility, layout = 6)\n",
    "\n",
    "d |>\n",
    "@vlplot(\n",
    "  :bar,\n",
    "  color=:green,\n",
    "  column = {\"iteration:o\",axis={title=\"\"}},\n",
    "  row = {\"stage:o\", sort = \"-stage\", axis={title=\"\"}},\n",
    "  x={\"Possibilities:n\", title=\"Possibilities\"},\n",
    "  color={\"Possibilities:n\", scale={range=[\"#89b8f5\"]}, axis={title=\"\"}, legend = \"\"},\n",
    "  y={\"Credibility\", axis={title=\"Credibility\", grid=false}},\n",
    "  height = 250)"
   ]
  }
 ],
 "metadata": {
  "kernelspec": {
   "display_name": "Julia 1.7.1",
   "language": "julia",
   "name": "julia-1.7"
  },
  "language_info": {
   "file_extension": ".jl",
   "mimetype": "application/julia",
   "name": "julia",
   "version": "1.7.1"
  }
 },
 "nbformat": 4,
 "nbformat_minor": 5
}